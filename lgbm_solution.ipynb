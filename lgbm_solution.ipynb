{
 "cells": [
  {
   "cell_type": "code",
   "execution_count": 41,
   "metadata": {},
   "outputs": [],
   "source": [
    "import pandas as pd\n",
    "import numpy as np\n",
    "import matplotlib.pyplot as pt\n",
    "%matplotlib inline\n",
    "import gc\n",
    "import lightgbm as lgb\n",
    "import catboost as cb\n",
    "from sklearn.model_selection import StratifiedKFold, cross_val_score, cross_val_predict, KFold\n",
    "from sklearn.metrics import roc_auc_score\n",
    "\n",
    "pd.set_option('display.max_columns', 500)"
   ]
  },
  {
   "cell_type": "code",
   "execution_count": 42,
   "metadata": {},
   "outputs": [
    {
     "name": "stdout",
     "output_type": "stream",
     "text": [
      "Wall time: 14.2 s\n"
     ]
    }
   ],
   "source": [
    "%%time\n",
    "train = pd.read_csv('train.csv')\n",
    "test = pd.read_csv('test_bqCt9Pv.csv')"
   ]
  },
  {
   "cell_type": "code",
   "execution_count": 43,
   "metadata": {},
   "outputs": [],
   "source": [
    "# some functions to prepare data\n",
    "def prep_yrs(x):\n",
    "    x_yrs = x.split()[0]\n",
    "    x_mon = x.split()[1]\n",
    "    n_years = x_yrs[:(len(x_yrs)-3)]\n",
    "    n_mon = x_mon[:(len(x_mon)-3)]\n",
    "    return int(n_years)*12 + int(n_mon)\n",
    "\n",
    "def birth_prep(x):\n",
    "    if x[6:] != '00':\n",
    "        x = x[:6]+'19'+x[6:]\n",
    "    else:\n",
    "        x = x[:6]+'2000'\n",
    "    return x\n",
    "\n",
    "def preproc_score(x):\n",
    "    if 'Not Scored' in x or 'No Bureau History Available' in x:\n",
    "        return 'Not Scored'\n",
    "    else:\n",
    "        return x\n",
    "    \n",
    "def means_mapping(var, by, func = 'mean'):\n",
    "    if type(by) != list:\n",
    "        by = [by]\n",
    "    name = '{0}_by_{1}_mean'.format(var, by)\n",
    "    grp = df.groupby(by)[[var]].agg(func)\n",
    "    grp.columns = [name]\n",
    "    return pd.merge(df[by], grp, left_on = by, right_index = True, how = 'left')[name]"
   ]
  },
  {
   "cell_type": "code",
   "execution_count": 44,
   "metadata": {},
   "outputs": [
    {
     "data": {
      "text/plain": [
       "11"
      ]
     },
     "execution_count": 44,
     "metadata": {},
     "output_type": "execute_result"
    }
   ],
   "source": [
    "target = train['loan_default']\n",
    "del train['loan_default']\n",
    "gc.collect()"
   ]
  },
  {
   "cell_type": "code",
   "execution_count": 45,
   "metadata": {},
   "outputs": [],
   "source": [
    "df = pd.concat((train, test))"
   ]
  },
  {
   "cell_type": "code",
   "execution_count": 46,
   "metadata": {},
   "outputs": [
    {
     "name": "stdout",
     "output_type": "stream",
     "text": [
      "MobileNo_Avl_Flag dropped, nunique=1\n"
     ]
    }
   ],
   "source": [
    "# columns with only one unique value is useless\n",
    "for col in df.columns:\n",
    "    if df[col].nunique() == 1:\n",
    "        df.drop(col, axis=1, inplace=True)\n",
    "        print(f'{col} dropped, nunique=1')"
   ]
  },
  {
   "cell_type": "code",
   "execution_count": null,
   "metadata": {},
   "outputs": [],
   "source": [
    "# preparing data\n",
    "df['AVERAGE.ACCT.AGE'] = df['AVERAGE.ACCT.AGE'].apply(prep_yrs)\n",
    "df['CREDIT.HISTORY.LENGTH'] = df['CREDIT.HISTORY.LENGTH'].apply(prep_yrs)\n",
    "\n",
    "df['Date.of.Birth'] = df['Date.of.Birth'].apply(birth_prep)\n",
    "\n",
    "df['Date.of.Birth'] = pd.to_datetime(df['Date.of.Birth'], format='%d-%m-%Y', cache=True, errors='coerce')\n",
    "df['DisbursalDate'] = pd.to_datetime(df['DisbursalDate'], format='%d-%m-%y', cache=True)\n",
    "\n",
    "df['PERFORM_CNS.SCORE.DESCRIPTION'] = df['PERFORM_CNS.SCORE.DESCRIPTION'].apply(preproc_score)"
   ]
  },
  {
   "cell_type": "code",
   "execution_count": 53,
   "metadata": {},
   "outputs": [],
   "source": [
    "# generating some useful features based on basic features\n",
    "df['years_on_loan'] = (df['DisbursalDate'] - df['Date.of.Birth']).astype('timedelta64[Y]')\n",
    "df['dis_as_diff'] = df['asset_cost'] - df['disbursed_amount']\n",
    "df['dis_as_share'] = df['asset_cost'] / df['disbursed_amount']\n",
    "df['diff_ltv_'] = df['dis_as_share'] - df['ltv']\n",
    "\n",
    "df['dayofweek'] = df['DisbursalDate'].dt.weekday\n",
    "df['day'] = df['DisbursalDate'].dt.day\n",
    "\n",
    "df['outstanding_now'] = df['disbursed_amount'] + df['PRI.CURRENT.BALANCE']\n",
    "df['disbursed_tot'] = df['PRI.DISBURSED.AMOUNT'] + df['disbursed_amount']\n",
    "df['out_to_dsbrsd'] = df['outstanding_now'] / df['disbursed_tot']\n",
    "df['share_overdue'] = df['DELINQUENT.ACCTS.IN.LAST.SIX.MONTHS'] - df['NEW.ACCTS.IN.LAST.SIX.MONTHS']\n",
    "\n",
    "df['sec_overdue_share'] = df['SEC.OVERDUE.ACCTS'] / df['SEC.NO.OF.ACCTS']\n",
    "df['pri_overdue_share'] = df['PRI.OVERDUE.ACCTS'] / df['PRI.NO.OF.ACCTS']"
   ]
  },
  {
   "cell_type": "code",
   "execution_count": 54,
   "metadata": {},
   "outputs": [],
   "source": [
    "# define list of categorical features to group by\n",
    "cat_cols_names = ['branch_id', 'supplier_id',  'manufacturer_id',\n",
    "                  'Employment.Type', 'State_ID', 'Employee_code_ID',\n",
    "                  'PERFORM_CNS.SCORE.DESCRIPTION', 'Current_pincode_ID', 'years_on_loan']"
   ]
  },
  {
   "cell_type": "code",
   "execution_count": 55,
   "metadata": {},
   "outputs": [],
   "source": [
    "# define list of numeric features to calculate by groups\n",
    "# final list was selected by cv\n",
    "numeric_cols = ['disbursed_amount', 'asset_cost', 'ltv',\n",
    "                'PERFORM_CNS.SCORE', 'NEW.ACCTS.IN.LAST.SIX.MONTHS', 'DELINQUENT.ACCTS.IN.LAST.SIX.MONTHS',\n",
    "                'AVERAGE.ACCT.AGE', 'CREDIT.HISTORY.LENGTH', 'NO.OF_INQUIRIES', 'pri_overdue_share']"
   ]
  },
  {
   "cell_type": "code",
   "execution_count": 56,
   "metadata": {},
   "outputs": [],
   "source": [
    "# additional check\n",
    "numeric_cols = [x for x in numeric_cols if x not in cat_cols_names]"
   ]
  },
  {
   "cell_type": "code",
   "execution_count": 58,
   "metadata": {},
   "outputs": [],
   "source": [
    "# fill NA with some str value\n",
    "df['Employment.Type'].fillna('miss', inplace=True)"
   ]
  },
  {
   "cell_type": "code",
   "execution_count": 59,
   "metadata": {},
   "outputs": [
    {
     "name": "stdout",
     "output_type": "stream",
     "text": [
      "Wall time: 25.5 s\n"
     ]
    }
   ],
   "source": [
    "# calculate means by categorical features\n",
    "for name in cat_cols_names:\n",
    "    temp = df.groupby([name])[numeric_cols].mean()\n",
    "    temp.columns = [col+'_grpd_by_'+name for col in temp.columns]\n",
    "    temp = temp.reset_index()\n",
    "    df = df.merge(temp, how='left', on=name)"
   ]
  },
  {
   "cell_type": "code",
   "execution_count": 61,
   "metadata": {},
   "outputs": [
    {
     "name": "stdout",
     "output_type": "stream",
     "text": [
      "Wall time: 725 ms\n"
     ]
    }
   ],
   "source": [
    "# calculate difference between actual value and mean by group\n",
    "grpd_cols = [col for col in df.columns if 'grpd' in col]\n",
    "\n",
    "for col in grpd_cols:\n",
    "    numcol = col.split('_grpd_by_')[0]\n",
    "    df[col] = df[numcol] - df[col]"
   ]
  },
  {
   "cell_type": "code",
   "execution_count": 62,
   "metadata": {},
   "outputs": [],
   "source": [
    "# frequency encoding for categories\n",
    "for col in cat_cols_names:\n",
    "    df[col] = df[col].map(df[col].value_counts(normalize=True))"
   ]
  },
  {
   "cell_type": "code",
   "execution_count": 63,
   "metadata": {},
   "outputs": [],
   "source": [
    "# differnt relative features calcucated by combinations of groups\n",
    "df['scr_by_sup_man'] = df['PERFORM_CNS.SCORE'] / means_mapping('PERFORM_CNS.SCORE', ['supplier_id',  'manufacturer_id'])\n",
    "df['ltv_by_sup_man'] = df['ltv'] / means_mapping('ltv', ['supplier_id',  'manufacturer_id'])\n",
    "#\n",
    "df['scr_by_sup_branch'] = df['PERFORM_CNS.SCORE'] / means_mapping('PERFORM_CNS.SCORE', ['supplier_id',  'branch_id'])\n",
    "df['ltv_by_sup_branch'] = df['ltv'] / means_mapping('ltv', ['supplier_id',  'branch_id'])\n",
    "#\n",
    "df['scr_by_man_branch'] = df['PERFORM_CNS.SCORE'] / means_mapping('PERFORM_CNS.SCORE', ['manufacturer_id',  'branch_id'])\n",
    "df['ltv_by_man_branch'] = df['ltv'] / means_mapping('ltv', ['manufacturer_id',  'branch_id'])\n",
    "#\n",
    "df['scr_by_man_branch_sup'] = df['PERFORM_CNS.SCORE'] / means_mapping('PERFORM_CNS.SCORE', ['manufacturer_id',\n",
    "                                                                                            'branch_id',\n",
    "                                                                                            'supplier_id'])\n",
    "df['ltv_by_man_branch_sup'] = df['ltv'] / means_mapping('ltv', ['manufacturer_id',\n",
    "                                                                'branch_id',\n",
    "                                                                'supplier_id'])\n",
    "#\n",
    "df['scr_by_state_branch'] = df['PERFORM_CNS.SCORE'] / means_mapping('PERFORM_CNS.SCORE', ['State_ID',  'branch_id'])\n",
    "df['ltv_by_state_branch'] = df['ltv'] / means_mapping('ltv', ['State_ID',  'branch_id'])\n",
    "#\n",
    "df['scr_by_state_man'] = df['PERFORM_CNS.SCORE'] / means_mapping('PERFORM_CNS.SCORE', ['State_ID',  'manufacturer_id'])\n",
    "df['ltv_by_state_man'] = df['ltv'] / means_mapping('ltv', ['State_ID',  'manufacturer_id'])\n",
    "#\n",
    "df['scr_by_state_sup'] = df['PERFORM_CNS.SCORE'] / means_mapping('PERFORM_CNS.SCORE', ['State_ID',  'supplier_id'])\n",
    "df['ltv_by_state_sup'] = df['ltv'] / means_mapping('ltv', ['State_ID',  'supplier_id'])\n",
    "#\n",
    "df['scr_by_emp_branch'] = df['PERFORM_CNS.SCORE'] / means_mapping('PERFORM_CNS.SCORE', ['Employee_code_ID',  'branch_id'])\n",
    "df['ltv_by_emp_branch'] = df['ltv'] / means_mapping('ltv', ['Employee_code_ID',  'branch_id'])\n",
    "#\n",
    "df['scr_by_sup_emp'] = df['PERFORM_CNS.SCORE'] / means_mapping('PERFORM_CNS.SCORE', ['Employee_code_ID',  'supplier_id'])\n",
    "df['ltv_by_sup_emp'] = df['ltv'] / means_mapping('ltv', ['Employee_code_ID',  'supplier_id'])\n",
    "#\n",
    "df['scr_by_emp_branch_sup'] = df['PERFORM_CNS.SCORE'] / means_mapping('PERFORM_CNS.SCORE', ['Employee_code_ID',\n",
    "                                                                                            'branch_id',\n",
    "                                                                                            'supplier_id'])\n",
    "df['ltv_by_emp_branch_sup'] = df['ltv'] / means_mapping('ltv', ['Employee_code_ID',\n",
    "                                                                'branch_id',\n",
    "                                                                'supplier_id'])\n",
    "#\n",
    "df['inq_by_sup_man'] = df['NO.OF_INQUIRIES'] / means_mapping('NO.OF_INQUIRIES', ['supplier_id',  'manufacturer_id'])\n",
    "df['inq_by_sup_branch'] = df['NO.OF_INQUIRIES'] / means_mapping('NO.OF_INQUIRIES', ['supplier_id',  'branch_id'])\n",
    "df['inq_by_man_branch'] = df['NO.OF_INQUIRIES'] / means_mapping('disbursed_amount', ['manufacturer_id',  'branch_id'])\n",
    "df['inq_by_man_branch_sup'] = df['NO.OF_INQUIRIES'] / means_mapping('NO.OF_INQUIRIES', ['manufacturer_id',\n",
    "                                                                                        'branch_id',\n",
    "                                                                                        'supplier_id'])\n",
    "df['inq_by_emp_branch'] = df['NO.OF_INQUIRIES'] / means_mapping('NO.OF_INQUIRIES',\n",
    "                                                                ['Employee_code_ID',  'branch_id'])\n",
    "#\n",
    "df['scr_by_age_emptype'] = df['PERFORM_CNS.SCORE'] / means_mapping('PERFORM_CNS.SCORE', ['Employment.Type', \n",
    "                                                                                         'years_on_loan'])\n",
    "df['ltv_by_age_emptype'] = df['ltv'] / means_mapping('ltv', ['Employment.Type', 'years_on_loan'])"
   ]
  },
  {
   "cell_type": "code",
   "execution_count": 64,
   "metadata": {},
   "outputs": [],
   "source": [
    "# splip to train and test again\n",
    "train_df = df.iloc[:len(train), :]\n",
    "test_df = df.iloc[len(train):, :]"
   ]
  },
  {
   "cell_type": "code",
   "execution_count": 65,
   "metadata": {},
   "outputs": [
    {
     "name": "stderr",
     "output_type": "stream",
     "text": [
      "D:\\Anaconda3\\lib\\site-packages\\ipykernel_launcher.py:1: SettingWithCopyWarning: \n",
      "A value is trying to be set on a copy of a slice from a DataFrame.\n",
      "Try using .loc[row_indexer,col_indexer] = value instead\n",
      "\n",
      "See the caveats in the documentation: http://pandas.pydata.org/pandas-docs/stable/indexing.html#indexing-view-versus-copy\n",
      "  \"\"\"Entry point for launching an IPython kernel.\n"
     ]
    }
   ],
   "source": [
    "train_df['loan_default'] = target"
   ]
  },
  {
   "cell_type": "code",
   "execution_count": 66,
   "metadata": {},
   "outputs": [
    {
     "data": {
      "text/plain": [
       "7"
      ]
     },
     "execution_count": 66,
     "metadata": {},
     "output_type": "execute_result"
    }
   ],
   "source": [
    "del train, test, df\n",
    "gc.collect()"
   ]
  },
  {
   "cell_type": "code",
   "execution_count": 68,
   "metadata": {},
   "outputs": [
    {
     "name": "stderr",
     "output_type": "stream",
     "text": [
      "D:\\Anaconda3\\lib\\site-packages\\ipykernel_launcher.py:3: SettingWithCopyWarning: \n",
      "A value is trying to be set on a copy of a slice from a DataFrame.\n",
      "Try using .loc[row_indexer,col_indexer] = value instead\n",
      "\n",
      "See the caveats in the documentation: http://pandas.pydata.org/pandas-docs/stable/indexing.html#indexing-view-versus-copy\n",
      "  This is separate from the ipykernel package so we can avoid doing imports until\n"
     ]
    }
   ],
   "source": [
    "# set the cv\n",
    "# used simple SKF because in my case it shows good correlation with lb\n",
    "# and also public/private split was \"random\" so i was not sure that it is time-wise\n",
    "skf = StratifiedKFold(n_splits=5, shuffle=True, random_state=13)\n",
    "oof = train_df[['UniqueID', 'loan_default']]\n",
    "oof['predict'] = 0\n",
    "predictions = test_df[['UniqueID']]\n",
    "val_aucs = []"
   ]
  },
  {
   "cell_type": "code",
   "execution_count": 69,
   "metadata": {},
   "outputs": [],
   "source": [
    "features = [col for col in train_df.columns if col not in ['UniqueID', 'loan_default', 'Date.of.Birth', 'DisbursalDate']]\n",
    "X_test = test_df[features].values"
   ]
  },
  {
   "cell_type": "code",
   "execution_count": 70,
   "metadata": {},
   "outputs": [],
   "source": [
    "lgb_clf = lgb.LGBMClassifier(\n",
    "                              boosting_type= 'gbdt',\n",
    "                              learning_rate= 0.05,\n",
    "                              n_estimators= 750,\n",
    "                              num_leaves= 16,\n",
    "                              objective= 'binary',\n",
    "                              reg_lambda= 5,\n",
    "                              seed= 15,\n",
    "                              subsample= 0.5,\n",
    "                              colsample_bytree=0.5\n",
    "                              )"
   ]
  },
  {
   "cell_type": "code",
   "execution_count": 74,
   "metadata": {},
   "outputs": [
    {
     "name": "stderr",
     "output_type": "stream",
     "text": [
      "D:\\Anaconda3\\lib\\site-packages\\pandas\\core\\series.py:977: SettingWithCopyWarning: \n",
      "A value is trying to be set on a copy of a slice from a DataFrame\n",
      "\n",
      "See the caveats in the documentation: http://pandas.pydata.org/pandas-docs/stable/indexing.html#indexing-view-versus-copy\n",
      "  self._set_labels(key, value)\n",
      "D:\\Anaconda3\\lib\\site-packages\\IPython\\core\\magics\\execution.py:1237: SettingWithCopyWarning: \n",
      "A value is trying to be set on a copy of a slice from a DataFrame\n",
      "\n",
      "See the caveats in the documentation: http://pandas.pydata.org/pandas-docs/stable/indexing.html#indexing-view-versus-copy\n",
      "  exec(code, glob, local_ns)\n",
      "D:\\Anaconda3\\lib\\site-packages\\ipykernel_launcher.py:25: SettingWithCopyWarning: \n",
      "A value is trying to be set on a copy of a slice from a DataFrame.\n",
      "Try using .loc[row_indexer,col_indexer] = value instead\n",
      "\n",
      "See the caveats in the documentation: http://pandas.pydata.org/pandas-docs/stable/indexing.html#indexing-view-versus-copy\n",
      "D:\\Anaconda3\\lib\\site-packages\\ipykernel_launcher.py:21: SettingWithCopyWarning: \n",
      "A value is trying to be set on a copy of a slice from a DataFrame\n",
      "\n",
      "See the caveats in the documentation: http://pandas.pydata.org/pandas-docs/stable/indexing.html#indexing-view-versus-copy\n",
      "D:\\Anaconda3\\lib\\site-packages\\pandas\\core\\series.py:977: SettingWithCopyWarning: \n",
      "A value is trying to be set on a copy of a slice from a DataFrame\n",
      "\n",
      "See the caveats in the documentation: http://pandas.pydata.org/pandas-docs/stable/indexing.html#indexing-view-versus-copy\n",
      "  self._set_labels(key, value)\n",
      "D:\\Anaconda3\\lib\\site-packages\\IPython\\core\\magics\\execution.py:1237: SettingWithCopyWarning: \n",
      "A value is trying to be set on a copy of a slice from a DataFrame\n",
      "\n",
      "See the caveats in the documentation: http://pandas.pydata.org/pandas-docs/stable/indexing.html#indexing-view-versus-copy\n",
      "  exec(code, glob, local_ns)\n",
      "D:\\Anaconda3\\lib\\site-packages\\ipykernel_launcher.py:25: SettingWithCopyWarning: \n",
      "A value is trying to be set on a copy of a slice from a DataFrame.\n",
      "Try using .loc[row_indexer,col_indexer] = value instead\n",
      "\n",
      "See the caveats in the documentation: http://pandas.pydata.org/pandas-docs/stable/indexing.html#indexing-view-versus-copy\n",
      "D:\\Anaconda3\\lib\\site-packages\\ipykernel_launcher.py:21: SettingWithCopyWarning: \n",
      "A value is trying to be set on a copy of a slice from a DataFrame\n",
      "\n",
      "See the caveats in the documentation: http://pandas.pydata.org/pandas-docs/stable/indexing.html#indexing-view-versus-copy\n",
      "D:\\Anaconda3\\lib\\site-packages\\pandas\\core\\series.py:977: SettingWithCopyWarning: \n",
      "A value is trying to be set on a copy of a slice from a DataFrame\n",
      "\n",
      "See the caveats in the documentation: http://pandas.pydata.org/pandas-docs/stable/indexing.html#indexing-view-versus-copy\n",
      "  self._set_labels(key, value)\n",
      "D:\\Anaconda3\\lib\\site-packages\\IPython\\core\\magics\\execution.py:1237: SettingWithCopyWarning: \n",
      "A value is trying to be set on a copy of a slice from a DataFrame\n",
      "\n",
      "See the caveats in the documentation: http://pandas.pydata.org/pandas-docs/stable/indexing.html#indexing-view-versus-copy\n",
      "  exec(code, glob, local_ns)\n",
      "D:\\Anaconda3\\lib\\site-packages\\ipykernel_launcher.py:25: SettingWithCopyWarning: \n",
      "A value is trying to be set on a copy of a slice from a DataFrame.\n",
      "Try using .loc[row_indexer,col_indexer] = value instead\n",
      "\n",
      "See the caveats in the documentation: http://pandas.pydata.org/pandas-docs/stable/indexing.html#indexing-view-versus-copy\n",
      "D:\\Anaconda3\\lib\\site-packages\\ipykernel_launcher.py:21: SettingWithCopyWarning: \n",
      "A value is trying to be set on a copy of a slice from a DataFrame\n",
      "\n",
      "See the caveats in the documentation: http://pandas.pydata.org/pandas-docs/stable/indexing.html#indexing-view-versus-copy\n",
      "D:\\Anaconda3\\lib\\site-packages\\pandas\\core\\series.py:977: SettingWithCopyWarning: \n",
      "A value is trying to be set on a copy of a slice from a DataFrame\n",
      "\n",
      "See the caveats in the documentation: http://pandas.pydata.org/pandas-docs/stable/indexing.html#indexing-view-versus-copy\n",
      "  self._set_labels(key, value)\n",
      "D:\\Anaconda3\\lib\\site-packages\\IPython\\core\\magics\\execution.py:1237: SettingWithCopyWarning: \n",
      "A value is trying to be set on a copy of a slice from a DataFrame\n",
      "\n",
      "See the caveats in the documentation: http://pandas.pydata.org/pandas-docs/stable/indexing.html#indexing-view-versus-copy\n",
      "  exec(code, glob, local_ns)\n",
      "D:\\Anaconda3\\lib\\site-packages\\ipykernel_launcher.py:25: SettingWithCopyWarning: \n",
      "A value is trying to be set on a copy of a slice from a DataFrame.\n",
      "Try using .loc[row_indexer,col_indexer] = value instead\n",
      "\n",
      "See the caveats in the documentation: http://pandas.pydata.org/pandas-docs/stable/indexing.html#indexing-view-versus-copy\n",
      "D:\\Anaconda3\\lib\\site-packages\\ipykernel_launcher.py:21: SettingWithCopyWarning: \n",
      "A value is trying to be set on a copy of a slice from a DataFrame\n",
      "\n",
      "See the caveats in the documentation: http://pandas.pydata.org/pandas-docs/stable/indexing.html#indexing-view-versus-copy\n",
      "D:\\Anaconda3\\lib\\site-packages\\pandas\\core\\series.py:977: SettingWithCopyWarning: \n",
      "A value is trying to be set on a copy of a slice from a DataFrame\n",
      "\n",
      "See the caveats in the documentation: http://pandas.pydata.org/pandas-docs/stable/indexing.html#indexing-view-versus-copy\n",
      "  self._set_labels(key, value)\n",
      "D:\\Anaconda3\\lib\\site-packages\\IPython\\core\\magics\\execution.py:1237: SettingWithCopyWarning: \n",
      "A value is trying to be set on a copy of a slice from a DataFrame\n",
      "\n",
      "See the caveats in the documentation: http://pandas.pydata.org/pandas-docs/stable/indexing.html#indexing-view-versus-copy\n",
      "  exec(code, glob, local_ns)\n"
     ]
    },
    {
     "name": "stdout",
     "output_type": "stream",
     "text": [
      "Wall time: 1h 11min 15s\n"
     ]
    },
    {
     "name": "stderr",
     "output_type": "stream",
     "text": [
      "D:\\Anaconda3\\lib\\site-packages\\ipykernel_launcher.py:25: SettingWithCopyWarning: \n",
      "A value is trying to be set on a copy of a slice from a DataFrame.\n",
      "Try using .loc[row_indexer,col_indexer] = value instead\n",
      "\n",
      "See the caveats in the documentation: http://pandas.pydata.org/pandas-docs/stable/indexing.html#indexing-view-versus-copy\n"
     ]
    }
   ],
   "source": [
    "for fold, (trn_idx, val_idx) in enumerate(skf.split(train_df, train_df['loan_default'])):\n",
    "    X_train, y_train = train_df.iloc[trn_idx][features], train_df.iloc[trn_idx]['loan_default']\n",
    "    X_valid, y_valid = train_df.iloc[val_idx][features], train_df.iloc[val_idx]['loan_default']\n",
    "    \n",
    "    p_valid,yp = 0,0\n",
    "    \n",
    "    lgb_clf.fit(X_train, y_train)\n",
    "    p_valid += lgb_clf.predict_proba(X_valid)[:, 1]\n",
    "    yp += lgb_clf.predict_proba(X_test)[:, 1]\n",
    "        \n",
    "    oof['predict'][val_idx] = p_valid\n",
    "    val_score = roc_auc_score(y_valid, p_valid)\n",
    "    val_aucs.append(val_score)\n",
    "    \n",
    "    predictions['fold{}'.format(fold+1)] = yp"
   ]
  },
  {
   "cell_type": "code",
   "execution_count": 75,
   "metadata": {},
   "outputs": [
    {
     "name": "stdout",
     "output_type": "stream",
     "text": [
      "Mean auc: 0.673137125, std: 0.002077454. All auc: 0.673116388.\n"
     ]
    }
   ],
   "source": [
    "mean_auc = np.mean(val_aucs)\n",
    "std_auc = np.std(val_aucs)\n",
    "all_auc = roc_auc_score(oof['loan_default'], oof['predict'])\n",
    "print(\"Mean auc: %.9f, std: %.9f. All auc: %.9f.\" % (mean_auc, std_auc, all_auc))"
   ]
  },
  {
   "cell_type": "code",
   "execution_count": 76,
   "metadata": {},
   "outputs": [
    {
     "name": "stderr",
     "output_type": "stream",
     "text": [
      "D:\\Anaconda3\\lib\\site-packages\\ipykernel_launcher.py:1: SettingWithCopyWarning: \n",
      "A value is trying to be set on a copy of a slice from a DataFrame.\n",
      "Try using .loc[row_indexer,col_indexer] = value instead\n",
      "\n",
      "See the caveats in the documentation: http://pandas.pydata.org/pandas-docs/stable/indexing.html#indexing-view-versus-copy\n",
      "  \"\"\"Entry point for launching an IPython kernel.\n"
     ]
    }
   ],
   "source": [
    "predictions['loan_default'] = np.mean(predictions[[col for col in predictions.columns if col not in ['UniqueID', 'loan_default']]].values, axis=1)\n",
    "predictions.to_csv('lgb_all_predictions_wmean1_mod3.csv', index=None)"
   ]
  },
  {
   "cell_type": "code",
   "execution_count": 77,
   "metadata": {
    "scrolled": true
   },
   "outputs": [],
   "source": [
    "sample_sub = pd.read_csv('sample_submission_24jSKY6.csv')"
   ]
  },
  {
   "cell_type": "code",
   "execution_count": 78,
   "metadata": {},
   "outputs": [],
   "source": [
    "sample_sub['loan_default'] = predictions['loan_default'].values"
   ]
  },
  {
   "cell_type": "code",
   "execution_count": 79,
   "metadata": {},
   "outputs": [],
   "source": [
    "sample_sub.to_csv('lgb_oof_wmean1_pred_mod3.csv', index=False)"
   ]
  },
  {
   "cell_type": "code",
   "execution_count": 80,
   "metadata": {},
   "outputs": [],
   "source": [
    "oof.to_csv('oof_lgb_wmean1_mod3.csv', index=False)"
   ]
  },
  {
   "cell_type": "code",
   "execution_count": null,
   "metadata": {},
   "outputs": [],
   "source": []
  }
 ],
 "metadata": {
  "kernelspec": {
   "display_name": "Python 3",
   "language": "python",
   "name": "python3"
  },
  "language_info": {
   "codemirror_mode": {
    "name": "ipython",
    "version": 3
   },
   "file_extension": ".py",
   "mimetype": "text/x-python",
   "name": "python",
   "nbconvert_exporter": "python",
   "pygments_lexer": "ipython3",
   "version": "3.6.4"
  }
 },
 "nbformat": 4,
 "nbformat_minor": 2
}
